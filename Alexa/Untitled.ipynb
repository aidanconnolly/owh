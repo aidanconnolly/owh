{
 "cells": [
  {
   "cell_type": "code",
   "execution_count": 12,
   "metadata": {
    "collapsed": true
   },
   "outputs": [],
   "source": [
    "import requests\n",
    "from bs4 import BeautifulSoup"
   ]
  },
  {
   "cell_type": "code",
   "execution_count": 13,
   "metadata": {
    "collapsed": true
   },
   "outputs": [],
   "source": [
    "url= \"http://menu.unl.edu/services/dailymenu.aspx?action=getdailymenuwithmealtime&mealdate=11-14-2016&mealname=breakfast&complexid=24&Type=hierarchical\""
   ]
  },
  {
   "cell_type": "code",
   "execution_count": 14,
   "metadata": {
    "collapsed": false
   },
   "outputs": [],
   "source": [
    "r = requests.get(url)"
   ]
  },
  {
   "cell_type": "code",
   "execution_count": 20,
   "metadata": {
    "collapsed": false
   },
   "outputs": [],
   "source": [
    "data = r.text\n",
    "soup = BeautifulSoup(data, 'html.parser')\n",
    "menuitems = soup.find_all('mealitem')"
   ]
  },
  {
   "cell_type": "code",
   "execution_count": 22,
   "metadata": {
    "collapsed": false
   },
   "outputs": [
    {
     "name": "stdout",
     "output_type": "stream",
     "text": [
      "Choice Of Cold Cereal\n",
      "GFL Crunchy Granola Cereal With Nuts\n",
      "GFL Nut &amp; Raisin Crunchy Granola Cereal\n",
      "GFL Oatmeal\n",
      "Peach Slices In Juice\n",
      "Pear Halves In Juice\n",
      "Unsweetened Blueberries\n",
      "Baked Hash Browns\n",
      "GFL Hard Cooked Eggs-\n",
      "GFL Pumpkin Pancakes\n",
      "Pork Sausage Link\n",
      "Scrambled Egg Whites-\n",
      "Scrambled Eggs=\n",
      "Veggie Bacon=\n",
      "GFL Jams &amp; Jellies\n",
      "GFL Poppyseed Bread\n",
      "GFL Pumpkin Apple Streusel Muffins\n",
      "Low Fat Chocolate Chip Muffins\n"
     ]
    }
   ],
   "source": [
    "for menuitem in menuitems:\n",
    "    print(menuitem.text)"
   ]
  },
  {
   "cell_type": "code",
   "execution_count": 19,
   "metadata": {
    "collapsed": false
   },
   "outputs": [
    {
     "data": {
      "text/plain": [
       "<unldining><complexname>Cather/Pound/Neihardt</complexname><complexid>24</complexid><complexcoordinates>40.818697,-96.696952</complexcoordinates><servicedate>11-14-2016</servicedate><breakfast><mealstart>2133-09-28T06:45:00-05:00</mealstart><mealend>2133-09-28T10:30:00-05:00</mealend><mealcourse value=\"Cereals\"><fooditem><mealitem>Choice Of Cold Cereal</mealitem><mealitemid>1007</mealitemid></fooditem><fooditem><mealitem>GFL Crunchy Granola Cereal With Nuts</mealitem><mealitemid>3583</mealitemid></fooditem><fooditem><mealitem>GFL Nut &amp;amp; Raisin Crunchy Granola Cereal</mealitem><mealitemid>3584</mealitemid></fooditem><fooditem><mealitem>GFL Oatmeal</mealitem><mealitemid>1010</mealitemid></fooditem></mealcourse><mealcourse value=\"Fruits &amp;amp; Juices\"><fooditem><mealitem>Peach Slices In Juice</mealitem><mealitemid>1375</mealitemid></fooditem><fooditem><mealitem>Pear Halves In Juice</mealitem><mealitemid>1428</mealitemid></fooditem><fooditem><mealitem>Unsweetened Blueberries</mealitem><mealitemid>1429</mealitemid></fooditem></mealcourse><mealcourse value=\"Breakfast Selections\"><fooditem><mealitem>Baked Hash Browns</mealitem><mealitemid>1011</mealitemid></fooditem><fooditem><mealitem>GFL Hard Cooked Eggs-</mealitem><mealitemid>4408</mealitemid></fooditem><fooditem><mealitem>GFL Pumpkin Pancakes</mealitem><mealitemid>3244</mealitemid></fooditem><fooditem><mealitem>Pork Sausage Link</mealitem><mealitemid>1373</mealitemid></fooditem><fooditem><mealitem>Scrambled Egg Whites-</mealitem><mealitemid>4261</mealitemid></fooditem><fooditem><mealitem>Scrambled Eggs=</mealitem><mealitemid>4229</mealitemid></fooditem><fooditem><mealitem>Veggie Bacon=</mealitem><mealitemid>1260</mealitemid></fooditem></mealcourse><mealcourse value=\"Breads\"><fooditem><mealitem>GFL Jams &amp;amp; Jellies</mealitem><mealitemid>1125</mealitemid></fooditem><fooditem><mealitem>GFL Poppyseed Bread</mealitem><mealitemid>1569</mealitemid></fooditem><fooditem><mealitem>GFL Pumpkin Apple Streusel Muffins</mealitem><mealitemid>4604</mealitemid></fooditem><fooditem><mealitem>Low Fat Chocolate Chip Muffins</mealitem><mealitemid>1512</mealitemid></fooditem></mealcourse></breakfast></unldining>"
      ]
     },
     "execution_count": 19,
     "metadata": {},
     "output_type": "execute_result"
    }
   ],
   "source": [
    "soup"
   ]
  },
  {
   "cell_type": "code",
   "execution_count": null,
   "metadata": {
    "collapsed": true
   },
   "outputs": [],
   "source": []
  }
 ],
 "metadata": {
  "kernelspec": {
   "display_name": "Python 3",
   "language": "python",
   "name": "python3"
  },
  "language_info": {
   "codemirror_mode": {
    "name": "ipython",
    "version": 3
   },
   "file_extension": ".py",
   "mimetype": "text/x-python",
   "name": "python",
   "nbconvert_exporter": "python",
   "pygments_lexer": "ipython3",
   "version": "3.5.2"
  }
 },
 "nbformat": 4,
 "nbformat_minor": 0
}
